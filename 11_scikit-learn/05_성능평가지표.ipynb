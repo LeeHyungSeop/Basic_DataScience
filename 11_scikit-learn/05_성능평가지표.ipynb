{
 "cells": [
  {
   "attachments": {},
   "cell_type": "markdown",
   "metadata": {},
   "source": [
    "# 성능 평가 지표"
   ]
  },
  {
   "attachments": {},
   "cell_type": "markdown",
   "metadata": {},
   "source": [
    "## 정확도(Accuracy)\n",
    "* 정확도는 전체 예측 데이터 건수 중 예측 결과가 동일한 데이터 건수로 계산\n",
    "* scikit-learn에서는 `accuracy_score` 함수를 제공"
   ]
  },
  {
   "cell_type": "code",
   "execution_count": 3,
   "metadata": {},
   "outputs": [
    {
     "name": "stdout",
     "output_type": "stream",
     "text": [
      "훈련 데이터 점수 : 0.9828571428571429\n",
      "평가 데이터 점수 : 0.98\n"
     ]
    }
   ],
   "source": [
    "from sklearn.datasets import make_classification\n",
    "from sklearn.linear_model import LogisticRegression\n",
    "from sklearn.model_selection import train_test_split\n",
    "\n",
    "# make_classification으로 data 생성 가능 \n",
    "X, y= make_classification(\n",
    "    n_samples=1000, n_features=2, n_informative=2,  # feature 2개 -> binary data형태\n",
    "    n_redundant=0, n_clusters_per_class=1           # redundant=0 -> 노이즈 없게, clusters_per_class : class 당 cluster를 몇 개로 둘지\n",
    ")\n",
    "\n",
    "X_train, X_test, y_train, y_test = train_test_split(X, y, test_size=0.3)\n",
    "\n",
    "model = LogisticRegression()\n",
    "model.fit(X_train, y_train)\n",
    "\n",
    "print(\"훈련 데이터 점수 : {}\" .format(model.score(X_train, y_train)))\n",
    "print(\"평가 데이터 점수 : {}\" .format(model.score(X_test, y_test)))\n"
   ]
  },
  {
   "cell_type": "code",
   "execution_count": 5,
   "metadata": {},
   "outputs": [
    {
     "name": "stdout",
     "output_type": "stream",
     "text": [
      "정확도 : 0.98\n"
     ]
    }
   ],
   "source": [
    "from sklearn.metrics import accuracy_score\n",
    "\n",
    "predict = model.predict(X_test) # test data에 대해서 얼만큼 예측을 했는지\n",
    "print(\"정확도 : {}\" .format(accuracy_score(y_test, predict)))\n",
    "\n",
    "'''\n",
    "위의 예제는 데이터 분포가 균일했기 때문에 accuracy_score가 높게 나온 것인데,\n",
    "\n",
    "데이터 분포가 균일하지 않을 때도 accuracy_score가 높게 나올 수 있다.\n",
    "따라서 accuracy_score에 따라 성능 평가를 판단하면 안된다는 점에 유의해야 한다.\n",
    "'''"
   ]
  },
  {
   "attachments": {},
   "cell_type": "markdown",
   "metadata": {},
   "source": [
    "## 오차 행렬(Confusion Matrix)\n",
    "* True Negative : 예측값을 Negative 값 0으로 예측했고, 실제 값도 Negative 값 0\n",
    "* False Positive : 예측값을 Positive 값 1을 예측했는데, 실제 값은 Negative 값 0\n",
    "* False Negative : 예측값을 Negative 값 0으로 예측했는데, 실제 값도 Positive 값 1\n",
    "* True Positive : 예측값을 Positive 값 1으로 예측했고, 실제 값도 Positive 값 1"
   ]
  },
  {
   "cell_type": "code",
   "execution_count": null,
   "metadata": {},
   "outputs": [],
   "source": []
  },
  {
   "cell_type": "markdown",
   "metadata": {},
   "source": []
  }
 ],
 "metadata": {
  "kernelspec": {
   "display_name": "base",
   "language": "python",
   "name": "python3"
  },
  "language_info": {
   "codemirror_mode": {
    "name": "ipython",
    "version": 3
   },
   "file_extension": ".py",
   "mimetype": "text/x-python",
   "name": "python",
   "nbconvert_exporter": "python",
   "pygments_lexer": "ipython3",
   "version": "3.10.8"
  },
  "orig_nbformat": 4,
  "vscode": {
   "interpreter": {
    "hash": "1fa5e1eba17a09ed460996a78ce2364a88c028d5d0b053615ee12cbef51e120d"
   }
  }
 },
 "nbformat": 4,
 "nbformat_minor": 2
}
