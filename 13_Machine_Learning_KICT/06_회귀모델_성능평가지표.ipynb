{
 "cells": [
  {
   "attachments": {},
   "cell_type": "markdown",
   "metadata": {},
   "source": [
    "# 회귀 모델 성능의 기본 평가 지표는 결정계수 $R^2$을 이용해 측정\n",
    "\n",
    "* 회귀 모델의 기본 예측 능력 평가 지표 == 성능 평가 지표 : 결정계수 $R^2$\n",
    "  (회귀모델 성능의 기본 평가지표는 결정지수 $R^2$를 이용해 측정한다.)\n",
    "* 데이터가 회귀선에 얼마나 가깝게 분포하는지를 측정\n",
    "* 모델에 의해 설명된 반응 변수 분산의 비율을 이용 -> 0 <= $R^2$ <= 1\n",
    "* $R^2$은 이상치에 민감하고, 모델에 새로운 특징이 추가되면 값이 증가하는 문제를 가짐 <br>\n",
    "  $R^2 score = \\frac{SSE}{SST} = 1- \\frac{SSR}{SST}$ <br>\n",
    "  \n",
    "  SST = Sum or Squares Result = 최소제곱합 <br>\n",
    "  $SST\\ =\\ \\sum _{i=1}^n{\\left({y}_i-\\overline {y}\\right)}^2$ <br><br>\n",
    "  SSE = Sum of Squares Error = 회귀 제곱합 <br>\n",
    "  $SSE\\ =\\ \\sum _{i=1}^n{\\left(\\hat{{y}_i}-\\overline {y}\\right)}^2$ <br><br>\n",
    "  SSR = Sum of Squares Result = 잔차 제곱합 <br>\n",
    "  ​$SSR\\ =\\ \\sum _{i=1}^n{\\left({y}_i-\\hat{{y}_i}\\right)}^2​$ <br>\n",
    "\n",
    "  $y_i$ : 관측값, $\\overline {y}$ : 관측값 평균, $\\hat{{y}_i}$ : 회귀 추정값"
   ]
  },
  {
   "cell_type": "markdown",
   "metadata": {},
   "source": []
  }
 ],
 "metadata": {
  "language_info": {
   "name": "python"
  },
  "orig_nbformat": 4
 },
 "nbformat": 4,
 "nbformat_minor": 2
}
