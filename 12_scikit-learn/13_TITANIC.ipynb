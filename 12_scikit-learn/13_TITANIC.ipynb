{
 "cells": [
  {
   "attachments": {},
   "cell_type": "markdown",
   "metadata": {},
   "source": [
    "# 타이타닉 생존 예측"
   ]
  },
  {
   "attachments": {},
   "cell_type": "markdown",
   "metadata": {},
   "source": [
    "## 라이브러리 import하기"
   ]
  },
  {
   "cell_type": "code",
   "execution_count": 40,
   "metadata": {},
   "outputs": [],
   "source": [
    "import numpy as np\n",
    "import pandas as pd\n",
    "import matplotlib.pyplot as plt\n",
    "import seaborn as sns"
   ]
  },
  {
   "attachments": {},
   "cell_type": "markdown",
   "metadata": {},
   "source": [
    "## 타이타닉 탑승자 파일 read_csv"
   ]
  },
  {
   "cell_type": "code",
   "execution_count": 41,
   "metadata": {},
   "outputs": [
    {
     "data": {
      "text/html": [
       "<div>\n",
       "<style scoped>\n",
       "    .dataframe tbody tr th:only-of-type {\n",
       "        vertical-align: middle;\n",
       "    }\n",
       "\n",
       "    .dataframe tbody tr th {\n",
       "        vertical-align: top;\n",
       "    }\n",
       "\n",
       "    .dataframe thead th {\n",
       "        text-align: right;\n",
       "    }\n",
       "</style>\n",
       "<table border=\"1\" class=\"dataframe\">\n",
       "  <thead>\n",
       "    <tr style=\"text-align: right;\">\n",
       "      <th></th>\n",
       "      <th>PassengerId</th>\n",
       "      <th>Survived</th>\n",
       "      <th>Pclass</th>\n",
       "      <th>Name</th>\n",
       "      <th>Sex</th>\n",
       "      <th>Age</th>\n",
       "      <th>SibSp</th>\n",
       "      <th>Parch</th>\n",
       "      <th>Ticket</th>\n",
       "      <th>Fare</th>\n",
       "      <th>Cabin</th>\n",
       "      <th>Embarked</th>\n",
       "    </tr>\n",
       "  </thead>\n",
       "  <tbody>\n",
       "    <tr>\n",
       "      <th>0</th>\n",
       "      <td>1</td>\n",
       "      <td>0</td>\n",
       "      <td>3</td>\n",
       "      <td>Braund, Mr. Owen Harris</td>\n",
       "      <td>male</td>\n",
       "      <td>22.0</td>\n",
       "      <td>1</td>\n",
       "      <td>0</td>\n",
       "      <td>A/5 21171</td>\n",
       "      <td>7.2500</td>\n",
       "      <td>NaN</td>\n",
       "      <td>S</td>\n",
       "    </tr>\n",
       "    <tr>\n",
       "      <th>1</th>\n",
       "      <td>2</td>\n",
       "      <td>1</td>\n",
       "      <td>1</td>\n",
       "      <td>Cumings, Mrs. John Bradley (Florence Briggs Th...</td>\n",
       "      <td>female</td>\n",
       "      <td>38.0</td>\n",
       "      <td>1</td>\n",
       "      <td>0</td>\n",
       "      <td>PC 17599</td>\n",
       "      <td>71.2833</td>\n",
       "      <td>C85</td>\n",
       "      <td>C</td>\n",
       "    </tr>\n",
       "    <tr>\n",
       "      <th>2</th>\n",
       "      <td>3</td>\n",
       "      <td>1</td>\n",
       "      <td>3</td>\n",
       "      <td>Heikkinen, Miss. Laina</td>\n",
       "      <td>female</td>\n",
       "      <td>26.0</td>\n",
       "      <td>0</td>\n",
       "      <td>0</td>\n",
       "      <td>STON/O2. 3101282</td>\n",
       "      <td>7.9250</td>\n",
       "      <td>NaN</td>\n",
       "      <td>S</td>\n",
       "    </tr>\n",
       "  </tbody>\n",
       "</table>\n",
       "</div>"
      ],
      "text/plain": [
       "   PassengerId  Survived  Pclass  \\\n",
       "0            1         0       3   \n",
       "1            2         1       1   \n",
       "2            3         1       3   \n",
       "\n",
       "                                                Name     Sex   Age  SibSp  \\\n",
       "0                            Braund, Mr. Owen Harris    male  22.0      1   \n",
       "1  Cumings, Mrs. John Bradley (Florence Briggs Th...  female  38.0      1   \n",
       "2                             Heikkinen, Miss. Laina  female  26.0      0   \n",
       "\n",
       "   Parch            Ticket     Fare Cabin Embarked  \n",
       "0      0         A/5 21171   7.2500   NaN        S  \n",
       "1      0          PC 17599  71.2833   C85        C  \n",
       "2      0  STON/O2. 3101282   7.9250   NaN        S  "
      ]
     },
     "execution_count": 41,
     "metadata": {},
     "output_type": "execute_result"
    }
   ],
   "source": [
    "titanic_df = pd.read_csv('./titanic_train.csv')\n",
    "titanic_df.head(3)"
   ]
  },
  {
   "attachments": {},
   "cell_type": "markdown",
   "metadata": {},
   "source": [
    "## Column 정보 확인"
   ]
  },
  {
   "cell_type": "code",
   "execution_count": 42,
   "metadata": {},
   "outputs": [
    {
     "name": "stdout",
     "output_type": "stream",
     "text": [
      "\n",
      " ### 학습 데이터 정보 ### \n",
      "\n",
      "<class 'pandas.core.frame.DataFrame'>\n",
      "RangeIndex: 891 entries, 0 to 890\n",
      "Data columns (total 12 columns):\n",
      " #   Column       Non-Null Count  Dtype  \n",
      "---  ------       --------------  -----  \n",
      " 0   PassengerId  891 non-null    int64  \n",
      " 1   Survived     891 non-null    int64  \n",
      " 2   Pclass       891 non-null    int64  \n",
      " 3   Name         891 non-null    object \n",
      " 4   Sex          891 non-null    object \n",
      " 5   Age          714 non-null    float64\n",
      " 6   SibSp        891 non-null    int64  \n",
      " 7   Parch        891 non-null    int64  \n",
      " 8   Ticket       891 non-null    object \n",
      " 9   Fare         891 non-null    float64\n",
      " 10  Cabin        204 non-null    object \n",
      " 11  Embarked     889 non-null    object \n",
      "dtypes: float64(2), int64(5), object(5)\n",
      "memory usage: 83.7+ KB\n",
      "None\n"
     ]
    },
    {
     "data": {
      "text/plain": [
       "\"\\nrow : 891개, column 12개\\n1. 'Age', 'Carbing', 'Embarked' 행에서 Null값 존재 확인 -> Null값 처리해야 함\\n2. 'Name', 'Sex', 'Ticket' 행은 Stirng type(==object type)으로 문자열 feature에 대한 처리를 해야 함\\n    pandas는 numpy 기반으로 만들어졌고 numpy의 String type 길이 제한이 있어 이에 대한 구분을 위해 object type으로 명기함.\\n    따라서 pandas의 object type은 String type으로 봐도 무방.\\n\""
      ]
     },
     "execution_count": 42,
     "metadata": {},
     "output_type": "execute_result"
    }
   ],
   "source": [
    "print('\\n ### 학습 데이터 정보 ### \\n')\n",
    "print(titanic_df.info())\n",
    "\n",
    "\"\"\"\n",
    "row : 891개, column 12개\n",
    "1. 'Age', 'Carbing', 'Embarked' 행에서 Null값 존재 확인 -> Null값 처리해야 함\n",
    "2. 'Name', 'Sex', 'Ticket' 행은 Stirng type(==object type)으로 문자열 feature에 대한 처리를 해야 함\n",
    "    pandas는 numpy 기반으로 만들어졌고 numpy의 String type 길이 제한이 있어 이에 대한 구분을 위해 object type으로 명기함.\n",
    "    따라서 pandas의 object type은 String type으로 봐도 무방.\n",
    "\"\"\"\n"
   ]
  },
  {
   "attachments": {},
   "cell_type": "markdown",
   "metadata": {},
   "source": [
    "## Null값(결측치) 처리\n",
    "사이킷런 머신러닝 알고리즘은 Null값을 허용하지 않으므로 Null값을 처리해야 한다. <br>\n",
    "fillna() 함수를 사용하여 Null값을 평균 또는 고정값으로 변경하겠다."
   ]
  },
  {
   "cell_type": "code",
   "execution_count": 43,
   "metadata": {},
   "outputs": [
    {
     "name": "stdout",
     "output_type": "stream",
     "text": [
      "데이터 세트 Null값 개수 :  0\n"
     ]
    }
   ],
   "source": [
    "titanic_df['Age'].fillna(titanic_df['Age'].mean(), inplace=True)\n",
    "titanic_df['Cabin'].fillna('N', inplace=True)\n",
    "titanic_df['Embarked'].fillna('N', inplace=True)\n",
    "\n",
    "print(\"데이터 세트 Null값 개수 : \", titanic_df.isnull().sum().sum())"
   ]
  },
  {
   "attachments": {},
   "cell_type": "markdown",
   "metadata": {},
   "source": [
    "## String type Feature 처리"
   ]
  },
  {
   "cell_type": "code",
   "execution_count": 44,
   "metadata": {},
   "outputs": [
    {
     "name": "stdout",
     "output_type": "stream",
     "text": [
      "Sex 값 분포 : \n",
      " male      577\n",
      "female    314\n",
      "Name: Sex, dtype: int64\n",
      "\n",
      "Cabin 값 분포 : \n",
      " N              687\n",
      "C23 C25 C27      4\n",
      "G6               4\n",
      "B96 B98          4\n",
      "C22 C26          3\n",
      "              ... \n",
      "E34              1\n",
      "C7               1\n",
      "C54              1\n",
      "E36              1\n",
      "C148             1\n",
      "Name: Cabin, Length: 148, dtype: int64\n",
      "\n",
      "Embarked 값 분포 : \n",
      " S    644\n",
      "C    168\n",
      "Q     77\n",
      "N      2\n",
      "Name: Embarked, dtype: int64\n"
     ]
    },
    {
     "data": {
      "text/plain": [
       "\" \\n'Sex', 'Embarked' 값은 문제가 없으나,\\n\\nCabin(선실)의 경우 N이 687건으로 가장 많은 것도 특이하지만, 속성값이 제대로 정리가 되지 않은 것 같다.\\n예를 들어 'C23 C25 C27'과 같이 여러 Cabin이 한꺼번에 표기된 Cabin값이 4건이나 된다.\\n\\nCabin의 경우, 선실 등급을 나타내는 첫 번째 알파벳이 중요해 보인다.\\n\\n왜냐하면 이 시절에는 부자와 가난한 사람들에 대한 차별이 있던 시절이었기에 \\n일등실에 투숙한 사람이 삼등실에 투숙한 사람보다 더 살아날 확률이 높았을 것.\\n\\n따라서 Cabin 속성의 앞 문자만 추출하는 작업 필요.\\n\""
      ]
     },
     "execution_count": 44,
     "metadata": {},
     "output_type": "execute_result"
    }
   ],
   "source": [
    "print('Sex 값 분포 : \\n', titanic_df['Sex'].value_counts())\n",
    "print('\\nCabin 값 분포 : \\n', titanic_df['Cabin'].value_counts())\n",
    "print('\\nEmbarked 값 분포 : \\n', titanic_df['Embarked'].value_counts())\n",
    "\n",
    "''' \n",
    "'Sex', 'Embarked' 값은 문제가 없으나,\n",
    "\n",
    "Cabin(선실)의 경우 N이 687건으로 가장 많은 것도 특이하지만, 속성값이 제대로 정리가 되지 않은 것 같다.\n",
    "예를 들어 'C23 C25 C27'과 같이 여러 Cabin이 한꺼번에 표기된 Cabin값이 4건이나 된다.\n",
    "\n",
    "Cabin의 경우, 선실 등급을 나타내는 첫 번째 알파벳이 중요해 보인다.\n",
    "\n",
    "왜냐하면 이 시절에는 부자와 가난한 사람들에 대한 차별이 있던 시절이었기에 \n",
    "일등실에 투숙한 사람이 삼등실에 투숙한 사람보다 더 살아날 확률이 높았을 것.\n",
    "\n",
    "따라서 Cabin 속성의 앞 문자만 추출하는 작업 필요.\n",
    "'''"
   ]
  },
  {
   "cell_type": "code",
   "execution_count": 45,
   "metadata": {},
   "outputs": [
    {
     "data": {
      "text/plain": [
       "0    N\n",
       "1    C\n",
       "2    N\n",
       "Name: Cabin, dtype: object"
      ]
     },
     "execution_count": 45,
     "metadata": {},
     "output_type": "execute_result"
    }
   ],
   "source": [
    "titanic_df['Cabin'] = titanic_df['Cabin'].str[:1]\n",
    "titanic_df['Cabin'].head(3)"
   ]
  },
  {
   "attachments": {},
   "cell_type": "markdown",
   "metadata": {},
   "source": [
    "## 성별에 따른 생존자 수 비교\n",
    "\n",
    "여성과 아이들, 그리고 노약자가 제일 먼저 구조 대상이었고, <br>\n",
    "아마도 부자나 유명인이 다음 구조 대상이었을 것이다. <br>\n",
    "삼등실에 탄 많은 가난한 청년들은 타이타닉 호와 운명을 함께 했을 것.. <br>\n",
    "<br>\n",
    "성별이 생존 확률에 어떤 영향을 미쳤는지, 성별에 따른 생존자 수 비교 필요."
   ]
  },
  {
   "cell_type": "code",
   "execution_count": 46,
   "metadata": {},
   "outputs": [
    {
     "data": {
      "text/plain": [
       "Sex     Survived\n",
       "female  0            81\n",
       "        1           233\n",
       "male    0           468\n",
       "        1           109\n",
       "Name: Survived, dtype: int64"
      ]
     },
     "execution_count": 46,
     "metadata": {},
     "output_type": "execute_result"
    }
   ],
   "source": [
    "titanic_df.groupby(['Sex', 'Survived'])['Survived'].count()\n",
    "\n",
    "# Survived 0 : 사망\n",
    "# Survived 1 : 생존"
   ]
  },
  {
   "cell_type": "code",
   "execution_count": 47,
   "metadata": {},
   "outputs": [
    {
     "data": {
      "image/png": "[encoded data removed]",
      "text/plain": [
       "<Figure size 640x480 with 1 Axes>"
      ]
     },
     "metadata": {},
     "output_type": "display_data"
    }
   ],
   "source": [
    "sns.barplot(x='Sex', y='Survived', data=titanic_df, width=0.5);\n",
    "\n",
    "# 탑승객은 남자가 577명, 여자가 314명으로 남자가 더 많았다\n",
    "# 여자는 314명 중 233명으로 74.2% 생존.\n",
    "# 남자는 577명 중 109명으로 18.8% 생존."
   ]
  },
  {
   "attachments": {},
   "cell_type": "markdown",
   "metadata": {},
   "source": [
    "## 부에 따른 생존자 수 비교"
   ]
  },
  {
   "cell_type": "code",
   "execution_count": 48,
   "metadata": {},
   "outputs": [
    {
     "data": {
      "text/plain": [
       "' \\nfemale의 경우\\n    일, 이등실에 따른 생존 확률의 차이는 크지 않으나,\\n    삼등실의 경우 생존 확률이 상대적으로 많이 떨어짐\\nmale의 경우\\n    일등실의 생존 확률이 이, 삼등실의 생존 확률보다 월등히 높다.\\n'"
      ]
     },
     "execution_count": 48,
     "metadata": {},
     "output_type": "execute_result"
    },
    {
     "data": {
      "image/png": "[encoded data removed]",
      "text/plain": [
       "<Figure size 640x480 with 1 Axes>"
      ]
     },
     "metadata": {},
     "output_type": "display_data"
    }
   ],
   "source": [
    "sns.barplot(x='Pclass', y='Survived', hue='Sex', data=titanic_df)\n",
    "\n",
    "''' \n",
    "female의 경우\n",
    "    일, 이등실에 따른 생존 확률의 차이는 크지 않으나,\n",
    "    삼등실의 경우 생존 확률이 상대적으로 많이 떨어짐\n",
    "male의 경우\n",
    "    일등실의 생존 확률이 이, 삼등실의 생존 확률보다 월등히 높다.\n",
    "'''"
   ]
  },
  {
   "attachments": {},
   "cell_type": "markdown",
   "metadata": {},
   "source": [
    "## 나이에 따른 생존자 수 비교\n",
    "\n",
    "Age의 경우 값 종류가 많기 때문에 범위별로 분류해 카테고리 값을 할당. <br>\n",
    "\n",
    "* 0~5세 : Baby\n",
    "* 6~12세 : Child\n",
    "* 13~18세 : Teenager\n",
    "* 19~25세 : Student\n",
    "* 26~35세 : Young Adult\n",
    "* 36~60세 : Adult\n",
    "* 61~ : Elderly\n"
   ]
  },
  {
   "cell_type": "code",
   "execution_count": 49,
   "metadata": {},
   "outputs": [],
   "source": [
    "def get_age_category(age) :\n",
    "    cat = ''\n",
    "    if age <= -1 : cat='Unknown' # 오류값 처리\n",
    "    elif age <= 5 : cat='Baby'  \n",
    "    elif age <= 12 : cat='Child'\n",
    "    elif age <= 18 : cat='Teenager'\n",
    "    elif age <= 25 : cat='Student'\n",
    "    elif age <= 35 : cat='Young Adult'\n",
    "    elif age <= 60 : cat='Adult'\n",
    "    else : cat='Elderly'\n",
    "\n",
    "    return cat"
   ]
  },
  {
   "cell_type": "code",
   "execution_count": 50,
   "metadata": {},
   "outputs": [
    {
     "data": {
      "text/plain": [
       "' \\n여자 Baby의 경우 비교적 생존 확률이 높음\\n여자 Child의 경우 다른 연령대에 비해 생존 확률이 낮음\\n여자 Elderly의 경우 생존 확률이 매우 높음\\n'"
      ]
     },
     "execution_count": 50,
     "metadata": {},
     "output_type": "execute_result"
    },
    {
     "data": {
      "image/png": "[encoded data removed]",
      "text/plain": [
       "<Figure size 1000x600 with 1 Axes>"
      ]
     },
     "metadata": {},
     "output_type": "display_data"
    }
   ],
   "source": [
    "plt.figure(figsize=(10, 6))\n",
    "\n",
    "group_names = ['Unknown', 'Baby', 'Child', 'Teenager', 'Student', 'Youn Adult', 'Adult', 'Elderly']\n",
    "\n",
    "titanic_df['Age_cat'] = titanic_df['Age'].apply(get_age_category)\n",
    "sns.barplot(x='Age_cat', y='Survived', hue='Sex', data=titanic_df, order=group_names)\n",
    "titanic_df.drop('Age_cat', axis=1, inplace=True)\n",
    "\n",
    "''' \n",
    "여자 Baby의 경우 비교적 생존 확률이 높음\n",
    "여자 Child의 경우 다른 연령대에 비해 생존 확률이 낮음\n",
    "여자 Elderly의 경우 생존 확률이 매우 높음\n",
    "'''"
   ]
  },
  {
   "attachments": {},
   "cell_type": "markdown",
   "metadata": {},
   "source": [
    "## Feature 변환(Encoding)\n",
    "\n",
    "이제 남아있는 문자열 카테고리 feature를 수치형 카테고리 feature로 변환.\n",
    "\n",
    "인코딩은 sckilearn의 LabelEncoder 클래스를 이용해 레이블 인코딩을 적용.\n",
    "LabelEncoder 객체는 카테고리 값의 유형 수에 따라, `0 ~ (카테고리 유형 수-1)`까지의 숫자 값으로 변환해준다."
   ]
  },
  {
   "cell_type": "code",
   "execution_count": 51,
   "metadata": {},
   "outputs": [
    {
     "data": {
      "text/html": [
       "<div>\n",
       "<style scoped>\n",
       "    .dataframe tbody tr th:only-of-type {\n",
       "        vertical-align: middle;\n",
       "    }\n",
       "\n",
       "    .dataframe tbody tr th {\n",
       "        vertical-align: top;\n",
       "    }\n",
       "\n",
       "    .dataframe thead th {\n",
       "        text-align: right;\n",
       "    }\n",
       "</style>\n",
       "<table border=\"1\" class=\"dataframe\">\n",
       "  <thead>\n",
       "    <tr style=\"text-align: right;\">\n",
       "      <th></th>\n",
       "      <th>PassengerId</th>\n",
       "      <th>Survived</th>\n",
       "      <th>Pclass</th>\n",
       "      <th>Name</th>\n",
       "      <th>Sex</th>\n",
       "      <th>Age</th>\n",
       "      <th>SibSp</th>\n",
       "      <th>Parch</th>\n",
       "      <th>Ticket</th>\n",
       "      <th>Fare</th>\n",
       "      <th>Cabin</th>\n",
       "      <th>Embarked</th>\n",
       "    </tr>\n",
       "  </thead>\n",
       "  <tbody>\n",
       "    <tr>\n",
       "      <th>0</th>\n",
       "      <td>1</td>\n",
       "      <td>0</td>\n",
       "      <td>3</td>\n",
       "      <td>Braund, Mr. Owen Harris</td>\n",
       "      <td>1</td>\n",
       "      <td>22.0</td>\n",
       "      <td>1</td>\n",
       "      <td>0</td>\n",
       "      <td>A/5 21171</td>\n",
       "      <td>7.2500</td>\n",
       "      <td>7</td>\n",
       "      <td>3</td>\n",
       "    </tr>\n",
       "    <tr>\n",
       "      <th>1</th>\n",
       "      <td>2</td>\n",
       "      <td>1</td>\n",
       "      <td>1</td>\n",
       "      <td>Cumings, Mrs. John Bradley (Florence Briggs Th...</td>\n",
       "      <td>0</td>\n",
       "      <td>38.0</td>\n",
       "      <td>1</td>\n",
       "      <td>0</td>\n",
       "      <td>PC 17599</td>\n",
       "      <td>71.2833</td>\n",
       "      <td>2</td>\n",
       "      <td>0</td>\n",
       "    </tr>\n",
       "    <tr>\n",
       "      <th>2</th>\n",
       "      <td>3</td>\n",
       "      <td>1</td>\n",
       "      <td>3</td>\n",
       "      <td>Heikkinen, Miss. Laina</td>\n",
       "      <td>0</td>\n",
       "      <td>26.0</td>\n",
       "      <td>0</td>\n",
       "      <td>0</td>\n",
       "      <td>STON/O2. 3101282</td>\n",
       "      <td>7.9250</td>\n",
       "      <td>7</td>\n",
       "      <td>3</td>\n",
       "    </tr>\n",
       "    <tr>\n",
       "      <th>3</th>\n",
       "      <td>4</td>\n",
       "      <td>1</td>\n",
       "      <td>1</td>\n",
       "      <td>Futrelle, Mrs. Jacques Heath (Lily May Peel)</td>\n",
       "      <td>0</td>\n",
       "      <td>35.0</td>\n",
       "      <td>1</td>\n",
       "      <td>0</td>\n",
       "      <td>113803</td>\n",
       "      <td>53.1000</td>\n",
       "      <td>2</td>\n",
       "      <td>3</td>\n",
       "    </tr>\n",
       "    <tr>\n",
       "      <th>4</th>\n",
       "      <td>5</td>\n",
       "      <td>0</td>\n",
       "      <td>3</td>\n",
       "      <td>Allen, Mr. William Henry</td>\n",
       "      <td>1</td>\n",
       "      <td>35.0</td>\n",
       "      <td>0</td>\n",
       "      <td>0</td>\n",
       "      <td>373450</td>\n",
       "      <td>8.0500</td>\n",
       "      <td>7</td>\n",
       "      <td>3</td>\n",
       "    </tr>\n",
       "  </tbody>\n",
       "</table>\n",
       "</div>"
      ],
      "text/plain": [
       "   PassengerId  Survived  Pclass  \\\n",
       "0            1         0       3   \n",
       "1            2         1       1   \n",
       "2            3         1       3   \n",
       "3            4         1       1   \n",
       "4            5         0       3   \n",
       "\n",
       "                                                Name  Sex   Age  SibSp  Parch  \\\n",
       "0                            Braund, Mr. Owen Harris    1  22.0      1      0   \n",
       "1  Cumings, Mrs. John Bradley (Florence Briggs Th...    0  38.0      1      0   \n",
       "2                             Heikkinen, Miss. Laina    0  26.0      0      0   \n",
       "3       Futrelle, Mrs. Jacques Heath (Lily May Peel)    0  35.0      1      0   \n",
       "4                           Allen, Mr. William Henry    1  35.0      0      0   \n",
       "\n",
       "             Ticket     Fare  Cabin  Embarked  \n",
       "0         A/5 21171   7.2500      7         3  \n",
       "1          PC 17599  71.2833      2         0  \n",
       "2  STON/O2. 3101282   7.9250      7         3  \n",
       "3            113803  53.1000      2         3  \n",
       "4            373450   8.0500      7         3  "
      ]
     },
     "execution_count": 51,
     "metadata": {},
     "output_type": "execute_result"
    }
   ],
   "source": [
    "from sklearn.preprocessing import LabelEncoder\n",
    "\n",
    "def encode_features(dataDF) :\n",
    "    features = ['Cabin', 'Sex', 'Embarked']\n",
    "    for feature in features :\n",
    "        le = LabelEncoder()\n",
    "        le = le.fit(dataDF[feature])\n",
    "        dataDF[feature] = le.transform(dataDF[feature])\n",
    "    \n",
    "    return dataDF\n",
    "\n",
    "titanic_df = encode_features(titanic_df)\n",
    "titanic_df.head() # 'Cabin', 'Sex', 'Embarekd' 속성이 숫자형으로 바뀐 것을 확인"
   ]
  },
  {
   "attachments": {},
   "cell_type": "markdown",
   "metadata": {},
   "source": [
    "## Feature 가공 & Data 전처리\n",
    "\n",
    "* Null 처리\n",
    "* 불필요한 feature 제거\n",
    "* encoding"
   ]
  },
  {
   "cell_type": "code",
   "execution_count": 56,
   "metadata": {},
   "outputs": [],
   "source": [
    "# Null 처리 함수\n",
    "def fillna(df) :\n",
    "    df['Age'].fillna(df['Age'].mean(), inplace=True)\n",
    "    df['Cabin'].fillna('N', inplace=True)\n",
    "    df['Embarked'].fillna('N', inplace=True)\n",
    "    df['Fare'].fillna(0, inplace=True)\n",
    "    return df\n",
    "\n",
    "# ML Algorithm에 불필요한 Feature 제거\n",
    "def drop_features(df) :\n",
    "    df.drop(['PassengerId', 'Name', 'Ticket'], axis=1, inplace=True)\n",
    "    return df\n",
    "\n",
    "# 레이블 인코딩 수행\n",
    "def format_features(df) :\n",
    "    df['Cabin'] = df['Cabin'].str[:1]\n",
    "    features = ['Cabin', 'Sex', 'Embarked']\n",
    "    for feature in features :\n",
    "        le = LabelEncoder()\n",
    "        le = le.fit(df[feature])\n",
    "        df[feature] = le.transform(df[feature])\n",
    "    return df\n",
    "\n",
    "# 데이터 전처리 함수 호출\n",
    "def transform_features(df) :\n",
    "    df = fillna(df)\n",
    "    df = drop_features(df)\n",
    "    df = format_features(df)\n",
    "    return df"
   ]
  },
  {
   "cell_type": "code",
   "execution_count": 57,
   "metadata": {},
   "outputs": [],
   "source": [
    "# 만들어진 transform_features() 함수를 이용해 다시 원본 데이터 가공\n",
    "# Survived 속성만 별도 분리해 클래스 결정값 데이터 세트로 만들고,\n",
    "# Survived 속성을 drop해 feature data set을 만든다.\n",
    "# 이렇게 생성된 feature data set에 transform_features()를 적용해 데이터를 가공\n",
    "\n",
    "# 원본 데이터 재로딩, 피처 데이터 세트와 레이블 데이터 세트 추출.\n",
    "titanic_df = pd.read_csv('./titanic_train.csv')\n",
    "y_titanic_df = titanic_df['Survived']\n",
    "X_titanic_df = titanic_df.drop('Survived', axis=1)\n",
    "\n",
    "X_titanic_df = transform_features(X_titanic_df)"
   ]
  },
  {
   "cell_type": "code",
   "execution_count": 59,
   "metadata": {},
   "outputs": [],
   "source": [
    "# 내려받은 학습 데이터 세트를 기반으로 별도의 테스트 데이터 세트 추출.\n",
    "from sklearn.model_selection import train_test_split\n",
    "\n",
    "X_train, X_test, y_train, y_test = train_test_split(X_titanic_df, y_titanic_df, test_size=0.2, random_state=11)"
   ]
  },
  {
   "attachments": {},
   "cell_type": "markdown",
   "metadata": {},
   "source": [
    "## 3개의 ML Algorithm을 이용한 생존자 예측"
   ]
  },
  {
   "cell_type": "code",
   "execution_count": 63,
   "metadata": {},
   "outputs": [
    {
     "name": "stdout",
     "output_type": "stream",
     "text": [
      "DecisionTreeClassifier 정확도 : 0.7877\n",
      "RandomForestClassifier 정확도 : 0.8547\n",
      "LogisticRegression 정확도 : 0.8492\n"
     ]
    },
    {
     "name": "stderr",
     "output_type": "stream",
     "text": [
      "/Users/ihyeongseob/miniconda3/lib/python3.10/site-packages/sklearn/linear_model/_logistic.py:458: ConvergenceWarning: lbfgs failed to converge (status=1):\n",
      "STOP: TOTAL NO. of ITERATIONS REACHED LIMIT.\n",
      "\n",
      "Increase the number of iterations (max_iter) or scale the data as shown in:\n",
      "    https://scikit-learn.org/stable/modules/preprocessing.html\n",
      "Please also refer to the documentation for alternative solver options:\n",
      "    https://scikit-learn.org/stable/modules/linear_model.html#logistic-regression\n",
      "  n_iter_i = _check_optimize_result(\n"
     ]
    },
    {
     "data": {
      "text/plain": [
       "'\\n3개의 알고리즘 중 LogisticRegression이 비교적 높은 정확도를 나타낸다.\\n\\n아직 최적화 작업을 수행하지 않았고, 데이터양도 충분하지 않기 때문에 \\n어떤 알고리즘이 가장 성능이 좋다고 평가할 수는 없다.\\n'"
      ]
     },
     "execution_count": 63,
     "metadata": {},
     "output_type": "execute_result"
    }
   ],
   "source": [
    "# 결정 트리, 랜덤 포레스트, 로지스틱 회귀를 이용해 타이타닉 생존자 예측\n",
    "\n",
    "from sklearn.tree import DecisionTreeClassifier\n",
    "from sklearn.ensemble import RandomForestClassifier\n",
    "from sklearn.linear_model import LogisticRegression\n",
    "from sklearn.metrics import accuracy_score\n",
    "\n",
    "# 결정트리, Random Foreset, 로지스틱 회귀를 위한 Classifier 클래스 생성\n",
    "dt_clf = DecisionTreeClassifier(random_state=11)\n",
    "rf_clf = RandomForestClassifier(random_state=11)\n",
    "lr_clf = LogisticRegression(random_state=11)\n",
    "\n",
    "# DecisionTreeClassifier 학습/예측/평가\n",
    "dt_clf.fit(X_train, y_train)\n",
    "dt_pred = dt_clf.predict(X_test)\n",
    "print(\"DecisionTreeClassifier 정확도 : {0:.4f}\" .format(accuracy_score(y_test, dt_pred)))\n",
    "\n",
    "# RandomForestClassifier 학습/예측/평가\n",
    "rf_clf.fit(X_train, y_train)\n",
    "rf_pred = rf_clf.predict(X_test)\n",
    "print(\"RandomForestClassifier 정확도 : {0:.4f}\" .format(accuracy_score(y_test, rf_pred)))\n",
    "\n",
    "# LogisticRegression 학습/예측/평가\n",
    "lr_clf.fit(X_train, y_train)\n",
    "lr_pred = lr_clf.predict(X_test)\n",
    "print(\"LogisticRegression 정확도 : {0:.4f}\" .format(accuracy_score(y_test, lr_pred)))\n",
    "\n",
    "'''\n",
    "3개의 알고리즘 중 LogisticRegression이 비교적 높은 정확도를 나타낸다.\n",
    "\n",
    "아직 최적화 작업을 수행하지 않았고, 데이터양도 충분하지 않기 때문에 \n",
    "어떤 알고리즘이 가장 성능이 좋다고 평가할 수는 없다.\n",
    "'''"
   ]
  },
  {
   "attachments": {},
   "cell_type": "markdown",
   "metadata": {},
   "source": [
    "## 결정 트리 모델에 대한 교차 검증\n",
    "\n",
    "* KFold (폴드 개수 5개)\n",
    "* cross_val_score()\n",
    "* GridSearchCV"
   ]
  },
  {
   "attachments": {},
   "cell_type": "markdown",
   "metadata": {},
   "source": [
    "### KFold (폴드 개수 5개)"
   ]
  },
  {
   "cell_type": "code",
   "execution_count": 64,
   "metadata": {},
   "outputs": [
    {
     "name": "stdout",
     "output_type": "stream",
     "text": [
      "교차 검증 0 정확도 : 0.7542\n",
      "교차 검증 1 정확도 : 0.7809\n",
      "교차 검증 2 정확도 : 0.7865\n",
      "교차 검증 3 정확도 : 0.7697\n",
      "교차 검증 4 정확도 : 0.8202\n",
      "평균 정확도 :  0.7823\n"
     ]
    }
   ],
   "source": [
    "from sklearn.model_selection import KFold\n",
    "\n",
    "def exec_kfold(clf, fold=5) :\n",
    "    # 폴드 세트를 5개인 KFold 객체를 생성, 폴드 수만큼 예측결과 저장을 위한 리스트 객체 생성\n",
    "    kfold = KFold(n_splits=fold)\n",
    "    scores = []\n",
    "\n",
    "    # KFold 교차 검증 수행\n",
    "    # X_titanic_df 데이터에서 교차 검증별로 학습과 검증 데이터를 가리키는 index 생성\n",
    "    for iter, (train_index, test_index) in enumerate(kfold.split(X_titanic_df)) :\n",
    "        X_train, X_test = X_titanic_df.values[train_index], X_titanic_df.values[test_index]\n",
    "        y_train, y_test = y_titanic_df.values[train_index], y_titanic_df.values[test_index]\n",
    "\n",
    "        # Classifier 학습, 예측, 정확도 계산\n",
    "        clf.fit(X_train, y_train)\n",
    "        predictions = clf.predict(X_test)\n",
    "        accuracy= accuracy_score(y_test, predictions)\n",
    "        scores.append(accuracy)\n",
    "        print(\"교차 검증 {0} 정확도 : {1:.4f}\" .format(iter, accuracy))\n",
    "    \n",
    "    # 5개 fold의 평균 정확도 계산\n",
    "    mean_score = np.mean(scores)\n",
    "    print(\"평균 정확도 : {0: .4f}\" .format(mean_score))\n",
    "\n",
    "exec_kfold(dt_clf, fold=5)\n"
   ]
  },
  {
   "attachments": {},
   "cell_type": "markdown",
   "metadata": {},
   "source": [
    "### cross_val_score()"
   ]
  },
  {
   "cell_type": "code",
   "execution_count": 66,
   "metadata": {},
   "outputs": [
    {
     "name": "stdout",
     "output_type": "stream",
     "text": [
      "교차 검증 0 정확도 : 0.7430\n",
      "교차 검증 1 정확도 : 0.7753\n",
      "교차 검증 2 정확도 : 0.7921\n",
      "교차 검증 3 정확도 : 0.7865\n",
      "교차 검증 4 정확도 : 0.8427\n",
      "평균 정확도 :  0.7879\n"
     ]
    }
   ],
   "source": [
    "from sklearn.model_selection import cross_val_score\n",
    "\n",
    "scores = cross_val_score(dt_clf, X_titanic_df, y_titanic_df, cv=5)\n",
    "\n",
    "for iter, accuracy in enumerate(scores) :\n",
    "    print(\"교차 검증 {0} 정확도 : {1:.4f}\" .format(iter, accuracy))\n",
    "\n",
    "print(\"평균 정확도 : {0: .4f}\" .format(np.mean(scores)))\n",
    "\n",
    "# KFold와의 평균 정확도가 다른데, \n",
    "# 이는 cross_val_score()가 StratifiedKFold를 이용해 폴드 세트를 분할하기 때문"
   ]
  },
  {
   "attachments": {},
   "cell_type": "markdown",
   "metadata": {},
   "source": [
    "### GridSearchCV\n",
    "\n",
    "GridSearchCV를 이용해 DecisionTreeClassifier의 최적 하이퍼 파라미터를 찾고, 예측 성능 측정"
   ]
  },
  {
   "cell_type": "code",
   "execution_count": 69,
   "metadata": {},
   "outputs": [
    {
     "name": "stdout",
     "output_type": "stream",
     "text": [
      "GridSearchCV 최적 하이퍼 파라미터 :  {'max_depth': 3, 'min_samples_leaf': 5, 'min_samples_split': 2}\n",
      "GridSearchCV 최고 정확도 :  0.7992\n",
      "테스트 세트에서 DecisionTreeClassifier 정확도 :  0.8715\n"
     ]
    }
   ],
   "source": [
    "from sklearn.model_selection import GridSearchCV\n",
    "\n",
    "parameters= {\n",
    "    'max_depth' : [2, 3, 5, 10],\n",
    "    'min_samples_split' : [2, 3, 5], 'min_samples_leaf' : [1, 5, 8]\n",
    "}\n",
    "\n",
    "grid_dclf = GridSearchCV(dt_clf, param_grid=parameters, scoring='accuracy', cv=5)\n",
    "grid_dclf.fit(X_train, y_train)\n",
    "\n",
    "print(\"GridSearchCV 최적 하이퍼 파라미터 : \", grid_dclf.best_params_)\n",
    "print(\"GridSearchCV 최고 정확도 : {0: .4f}\" .format(grid_dclf.best_score_))\n",
    "best_dclf = grid_dclf.best_estimator_\n",
    "\n",
    "# GridSearchCV의 최적 하이퍼  파라미터로 학습된 Estimator로 예측 및 평가 수행\n",
    "dpredictions = best_dclf.predict(X_test)\n",
    "\n",
    "accuracy = accuracy_score(y_test, dpredictions)\n",
    "print(\"테스트 세트에서 DecisionTreeClassifier 정확도 : {0: .4f}\" .format(accuracy))\n",
    "\n",
    "# 'max_depth': 3, 'min_samples_leaf': 5, 'min_samples_split': 2로 DecisionTreeClassifier를 학습시킨 뒤\n",
    "# 예측 정확도가 87.15%로 향상되었다.\n",
    "# 하이퍼 파라미터 변경 전보다 약 8% 시앙이 증가했는데, 일반적으로 하이퍼 파라미터 튜닝을 하더라고 이 정도로 증가하기는 어렵다\n",
    "# 테스트용 데이터 세트가 작기 때문에 수치상으로 예측 성능이 많이 증가한 것처럼 보인다\n"
   ]
  },
  {
   "cell_type": "code",
   "execution_count": null,
   "metadata": {},
   "outputs": [],
   "source": []
  }
 ],
 "metadata": {
  "kernelspec": {
   "display_name": "base",
   "language": "python",
   "name": "python3"
  },
  "language_info": {
   "codemirror_mode": {
    "name": "ipython",
    "version": 3
   },
   "file_extension": ".py",
   "mimetype": "text/x-python",
   "name": "python",
   "nbconvert_exporter": "python",
   "pygments_lexer": "ipython3",
   "version": "3.10.8"
  },
  "orig_nbformat": 4,
  "vscode": {
   "interpreter": {
    "hash": "1fa5e1eba17a09ed460996a78ce2364a88c028d5d0b053615ee12cbef51e120d"
   }
  }
 },
 "nbformat": 4,
 "nbformat_minor": 2
}
