{
 "cells": [
  {
   "attachments": {},
   "cell_type": "markdown",
   "metadata": {},
   "source": [
    "# 교차 검증 개념 및 기법\n",
    "\n",
    "Cross Validation == CV"
   ]
  },
  {
   "attachments": {},
   "cell_type": "markdown",
   "metadata": {},
   "source": [
    "# 교차 검증의 기본 절차\n",
    "1. 교차 검증 1단계에서는 데이터를 학습용과 테스트용으로 나눔\n",
    "2. 모델의 테스트 성능을 기록\n",
    "3. 교차 검증의 매 단계마다 다른 파티션으로 위의 작업을 수행\n",
    "4. 모델의 최종 성능은 매 단계의 테스트 성능을 평균 계산\n",
    "\n",
    "`교차 검증은 모델의 변동성을 줄어주며 오버피팅과 같은 문제를 막아줌`"
   ]
  },
  {
   "attachments": {},
   "cell_type": "markdown",
   "metadata": {},
   "source": [
    " # 교차 검증 기법\n",
    " "
   ]
  },
  {
   "attachments": {},
   "cell_type": "markdown",
   "metadata": {},
   "source": [
    " ## k 폴드 교차 검증 \n",
    " : 데이터를 무작위로 k개의 동일한 크기인 폴드로 나눔. (보통 k값으로 3, 5, 10을 많이 사용)\n",
    " \n",
    " 각 시행 단계에서 특정 폴드를 테스트용으로, 나머지는 학습용으로 사용\n",
    " 각 폴드를 테스트 세트로 한 번씩 사용하고 이 과정을 k번 반복 시행함\n",
    " 최종적으로 모델 성능의 평균을 계산\n",
    "![](https://velog.velcdn.com/images/hseop/post/30741222-33bf-4828-8d60-743230ea7705/image.png)"
   ]
  },
  {
   "cell_type": "code",
   "execution_count": 1,
   "metadata": {},
   "outputs": [],
   "source": [
    "from sklearn.datasets import load_iris\n",
    "\n",
    "iris = load_iris()\n",
    "X = iris.data\n",
    "y = iris.target"
   ]
  },
  {
   "cell_type": "code",
   "execution_count": 4,
   "metadata": {},
   "outputs": [],
   "source": [
    "from sklearn.neighbors import KNeighborsClassifier # k최근접 이웃 알고리즘\n",
    "model = KNeighborsClassifier(n_neighbors=1) # 최근접 이웃 1개로 분류"
   ]
  },
  {
   "cell_type": "code",
   "execution_count": 5,
   "metadata": {},
   "outputs": [
    {
     "data": {
      "text/plain": [
       "array([0.96666667, 0.96666667, 0.93333333, 0.93333333, 1.        ])"
      ]
     },
     "execution_count": 5,
     "metadata": {},
     "output_type": "execute_result"
    }
   ],
   "source": [
    "from sklearn.model_selection import cross_val_score # 교차 검증을 위한 함수\n",
    "cross_val_score(model, X, y, cv=5) # cv=5 : 5번 반복, 5개의 폴드. -> 5번 반복했을 때, 각각 성능에 대한 정보"
   ]
  },
  {
   "attachments": {},
   "cell_type": "markdown",
   "metadata": {},
   "source": [
    "## 단일 관측치 제거 방식(LOOCV : Leave-one-out cross validation)\n",
    "\n",
    "* 매 시행 단계에서 테스트 샘플을 고정하는 방식 <br>\n",
    "* 매 시행 단계에서 테스트 샘플을 고정하는 방식 <br>\n",
    "* 데이터를 n개의 서브세트로 분할하고, n개 중 1개를 테스트용으로 두고 n-1개로 학습을 수행<br>\n",
    "* 데이터 크기가 n이면 n번의 교차 검증을 수행<br>\n",
    "\n",
    "* 데이터 표면 150개 -> 교차검증 150회 (1:예측 성공, 0:예측 실패)"
   ]
  },
  {
   "cell_type": "code",
   "execution_count": 6,
   "metadata": {},
   "outputs": [
    {
     "data": {
      "text/plain": [
       "array([1., 1., 1., 1., 1., 1., 1., 1., 1., 1., 1., 1., 1., 1., 1., 1., 1.,\n",
       "       1., 1., 1., 1., 1., 1., 1., 1., 1., 1., 1., 1., 1., 1., 1., 1., 1.,\n",
       "       1., 1., 1., 1., 1., 1., 1., 1., 1., 1., 1., 1., 1., 1., 1., 1., 1.,\n",
       "       1., 1., 1., 1., 1., 1., 1., 1., 1., 1., 1., 1., 1., 1., 1., 1., 1.,\n",
       "       1., 1., 0., 1., 0., 1., 1., 1., 1., 1., 1., 1., 1., 1., 1., 0., 1.,\n",
       "       1., 1., 1., 1., 1., 1., 1., 1., 1., 1., 1., 1., 1., 1., 1., 1., 1.,\n",
       "       1., 1., 1., 1., 0., 1., 1., 1., 1., 1., 1., 1., 1., 1., 1., 1., 1.,\n",
       "       0., 1., 1., 1., 1., 1., 1., 1., 1., 1., 1., 1., 1., 1., 0., 1., 1.,\n",
       "       1., 1., 1., 1., 1., 1., 1., 1., 1., 1., 1., 1., 1., 1.])"
      ]
     },
     "execution_count": 6,
     "metadata": {},
     "output_type": "execute_result"
    }
   ],
   "source": [
    "from sklearn.model_selection import LeaveOneOut\n",
    "\n",
    "scores = cross_val_score(model, X, y, cv=LeaveOneOut())\n",
    "scores"
   ]
  },
  {
   "cell_type": "code",
   "execution_count": null,
   "metadata": {},
   "outputs": [],
   "source": []
  }
 ],
 "metadata": {
  "kernelspec": {
   "display_name": "base",
   "language": "python",
   "name": "python3"
  },
  "language_info": {
   "codemirror_mode": {
    "name": "ipython",
    "version": 3
   },
   "file_extension": ".py",
   "mimetype": "text/x-python",
   "name": "python",
   "nbconvert_exporter": "python",
   "pygments_lexer": "ipython3",
   "version": "3.10.8"
  },
  "orig_nbformat": 4,
  "vscode": {
   "interpreter": {
    "hash": "1fa5e1eba17a09ed460996a78ce2364a88c028d5d0b053615ee12cbef51e120d"
   }
  }
 },
 "nbformat": 4,
 "nbformat_minor": 2
}
