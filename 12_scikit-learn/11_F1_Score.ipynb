{
 "cells": [
  {
   "attachments": {},
   "cell_type": "markdown",
   "metadata": {},
   "source": [
    "# F1 Score(F-measure)\n",
    "\n",
    "* 정밀도와 재현율을 결합한 지표\n",
    "* 정밀도와 재현율이 어느 한쪽으로 치우치지 않을 때 높은 값을 가짐\n",
    "\n",
    "$F1 = 2*((precision * recall) / (precision + reacall))$"
   ]
  },
  {
   "cell_type": "code",
   "execution_count": 29,
   "metadata": {},
   "outputs": [
    {
     "name": "stdout",
     "output_type": "stream",
     "text": [
      "훈련 데이터 점수 : 0.9928571428571429\n",
      "평가 데이터 점수 : 0.9966666666666667\n",
      "정확도 : 0.9966666666666667\n",
      "[[147   1]\n",
      " [  0 152]]\n"
     ]
    },
    {
     "data": {
      "image/png": "[encoded data removed]",
      "text/plain": [
       "<Figure size 250x250 with 1 Axes>"
      ]
     },
     "metadata": {},
     "output_type": "display_data"
    }
   ],
   "source": [
    "from sklearn.datasets import make_classification\n",
    "from sklearn.linear_model import LogisticRegression\n",
    "from sklearn.model_selection import train_test_split\n",
    "from sklearn.metrics import accuracy_score\n",
    "from sklearn.metrics import confusion_matrix\n",
    "import matplotlib.pyplot as plt\n",
    "\n",
    "# make_classification으로 data 생성 가능 \n",
    "X, y= make_classification(\n",
    "    n_samples=1000, n_features=2, n_informative=2,  # feature 2개 -> binary data형태\n",
    "    n_redundant=0, n_clusters_per_class=1           # redundant=0 -> 노이즈 없게, clusters_per_class : class 당 cluster를 몇 개로 둘지\n",
    ")\n",
    "\n",
    "X_train, X_test, y_train, y_test = train_test_split(X, y, test_size=0.3)\n",
    "\n",
    "model = LogisticRegression()\n",
    "model.fit(X_train, y_train)\n",
    "\n",
    "print(\"훈련 데이터 점수 : {}\" .format(model.score(X_train, y_train)))\n",
    "print(\"평가 데이터 점수 : {}\" .format(model.score(X_test, y_test)))\n",
    "\n",
    "predict = model.predict(X_test) # test data에 대해서 얼만큼 예측을 했는지\n",
    "print(\"정확도 : {}\" .format(accuracy_score(y_test, predict)))\n",
    "\n",
    "confmat = confusion_matrix(y_true=y_test, y_pred=predict)\n",
    "print(confmat)\n",
    "\n",
    "fig, ax = plt.subplots(figsize=(2.5, 2.5))\n",
    "ax.matshow(confmat, cmap=plt.cm.Blues, alpha=0.3)\n",
    "for i in range(confmat.shape[0]) :\n",
    "    for j in range(confmat.shape[1]) :\n",
    "        ax.text(x=j, y=i, s=confmat[i, j], ha='center', va='center')\n",
    "\n",
    "plt.xlabel('Predicted label')\n",
    "plt.ylabel('True label')\n",
    "plt.tight_layout()\n",
    "plt.show()\n",
    "\n",
    "# (Predicted label, True label)   \n",
    "#               (0, 0)           TN (True Negative  : 예측값을 Negative 값 0으로 예측했고, 실제 값도 Negative 값 0)\n",
    "#               (0, 1)           FP (False Positive : 예측값을 Positive 값 1으로 예측했는데, 실제 값은 Negative 값 0) \n",
    "#               (1, 0)           FN (False Negative : 예측값을 Negative 값 0으로 예측했는데, 실제 값은 Positive 값 1)\n",
    "#               (1, 1)           TP (True Positive  : 예측값을 Positive 값 1으로 예측했고, 실제 값도 Positive 값 1)\n"
   ]
  },
  {
   "cell_type": "code",
   "execution_count": 30,
   "metadata": {},
   "outputs": [
    {
     "name": "stdout",
     "output_type": "stream",
     "text": [
      "F1 Score : 0.9967213114754099\n"
     ]
    }
   ],
   "source": [
    "from sklearn.metrics import f1_score\n",
    "\n",
    "f1 = f1_score(y_test, predict)\n",
    "\n",
    "print(\"F1 Score : {}\" .format(f1))"
   ]
  }
 ],
 "metadata": {
  "kernelspec": {
   "display_name": "base",
   "language": "python",
   "name": "python3"
  },
  "language_info": {
   "codemirror_mode": {
    "name": "ipython",
    "version": 3
   },
   "file_extension": ".py",
   "mimetype": "text/x-python",
   "name": "python",
   "nbconvert_exporter": "python",
   "pygments_lexer": "ipython3",
   "version": "3.10.8"
  },
  "orig_nbformat": 4,
  "vscode": {
   "interpreter": {
    "hash": "1fa5e1eba17a09ed460996a78ce2364a88c028d5d0b053615ee12cbef51e120d"
   }
  }
 },
 "nbformat": 4,
 "nbformat_minor": 2
}
