{
 "cells": [
  {
   "attachments": {},
   "cell_type": "markdown",
   "metadata": {},
   "source": [
    "# 정확도(Accuracy)\n",
    "\n",
    "$정확도(Accuracy) = 예측 결과가 동일한 데이터 건수 / 전체 예측 데이터 건수$\n",
    "\n",
    "정확도는 실제 데이터에서 예측 데이터가 얼마나 같은지를 판단하는 지표이다. <br>\n",
    "하지만 이진 분류의 경우 데이터의 구성에 따라 ML 모델의 성능을 왜곡할 수 있기 때문에 정확도 수치 하나만 가지로 성능을 평가하지 않는다.\n",
    "\n",
    "정확도 지표가 어떻게 ML 모델의 성능을 왜곡하는지 예제로 살펴본다.\n",
    "\n",
    "타이타닉 예제 수행 결과를 보면, <br>\n",
    "ML 알고리즘을 적용한 후 예측 정확도의 결과가 보통 80%대였지만, 탑승객이 남자인 경우보다 여자인 경우에 생존 확률이 높았기 때문에 별다른 알고리즘 적용 없이 무조건 성별이 여자인 경우 생존으로, 남자인 경우 사망으로 예측 결과를 예측해도 이와 비슷한 수치가 나올 수 있다.\n",
    "\n",
    "단지 성별 조건 하나만을 가지고 결정하는 별거 아닌 알고리즘도 높은 정확도를 나타내는 상황이 발생하게 된다.\n",
    "\n"
   ]
  },
  {
   "attachments": {},
   "cell_type": "markdown",
   "metadata": {},
   "source": [
    "## 불균형한 레이블 값 분포 / 이진 분류에서 정확도(Accuracy) 사용시 유의할 점"
   ]
  },
  {
   "attachments": {},
   "cell_type": "markdown",
   "metadata": {},
   "source": [
    "### 예제 1 : [Titanic] 성별에 따른 생존자수 예측 정확도"
   ]
  },
  {
   "attachments": {},
   "cell_type": "markdown",
   "metadata": {},
   "source": [
    "#### 성별에 따라 생존자를 예측하는 단순한 Classifier\n",
    "\n",
    "BaseEstimator 클래스를 상속받아 아무런 학습을 하지 않고, 성별에 따라 생존자를 예측하는 단순한 Classifier를 생성한다.\n",
    "\n",
    "BaseEstimator를 상속받으면 Customized 형태의 Estimator를 개발자가 생성할 수 있다.\n",
    "\n",
    "생성할 클래스는 학습을 수행하는 fit() method는 아무것도 수행하지 않으며 예측을 수행하는 predict() method는 단순히 Sex Feature가 1이면 0, 그렇지 않으면 1로 예측하는 단순한 Classifier이다."
   ]
  },
  {
   "cell_type": "code",
   "execution_count": 22,
   "metadata": {},
   "outputs": [],
   "source": [
    "from sklearn.base import BaseEstimator\n",
    "import numpy as np\n",
    "\n",
    "class MyDummyClassifier(BaseEstimator) :\n",
    "    # fit() method는 아무것도 학습하지 않음\n",
    "    def fit(self, X, y=None) :\n",
    "        pass \n",
    "    \n",
    "    # predict() method는 단순히 Sex feature가 1이면 0, 그렇지 않으면 1로 예측\n",
    "    def predict(self, X) :\n",
    "        pred = np.zeros((X.shape[0], 1))\n",
    "        for i in range(X.shape[0]) :\n",
    "            if X['Sex'].iloc[i] == 1 :\n",
    "                pred[i] = 0\n",
    "            else :\n",
    "                pred[i] = 1\n",
    "        return pred"
   ]
  },
  {
   "attachments": {},
   "cell_type": "markdown",
   "metadata": {},
   "source": [
    "#### MyDummyClassifier를 이용해 앞서 타이타닉 생존자 예측을 수행\n",
    "\n",
    "데이터를 가공하고 나서 이 Classifier를 이용해 학습/예측/평가 진행"
   ]
  },
  {
   "cell_type": "code",
   "execution_count": 23,
   "metadata": {},
   "outputs": [],
   "source": [
    "from sklearn.preprocessing import LabelEncoder\n",
    "\n",
    "# Null 처리 함수\n",
    "def fillna(df) :\n",
    "    df['Age'].fillna(df['Age'].mean(), inplace=True)\n",
    "    df['Cabin'].fillna('N', inplace=True)\n",
    "    df['Embarked'].fillna('N', inplace=True)\n",
    "    df['Fare'].fillna(0, inplace=True)\n",
    "    return df\n",
    "\n",
    "# ML Algorithm에 불필요한 Feature 제거\n",
    "def drop_features(df) :\n",
    "    df.drop(['PassengerId', 'Name', 'Ticket'], axis=1, inplace=True)\n",
    "    return df\n",
    "\n",
    "# 레이블 인코딩 수행\n",
    "def format_features(df) :\n",
    "    df['Cabin'] = df['Cabin'].str[:1]\n",
    "    features = ['Cabin', 'Sex', 'Embarked']\n",
    "    for feature in features :\n",
    "        le = LabelEncoder()\n",
    "        le = le.fit(df[feature])\n",
    "        df[feature] = le.transform(df[feature])\n",
    "    return df\n",
    "\n",
    "# 데이터 전처리 함수 호출\n",
    "def transform_features(df) :\n",
    "    df = fillna(df)\n",
    "    df = drop_features(df)\n",
    "    df = format_features(df)\n",
    "    return df"
   ]
  },
  {
   "cell_type": "code",
   "execution_count": 24,
   "metadata": {},
   "outputs": [
    {
     "name": "stdout",
     "output_type": "stream",
     "text": [
      "Dummy Classifier의 정확도 :  0.7877\n"
     ]
    }
   ],
   "source": [
    "import pandas as pd\n",
    "import numpy as np\n",
    "from sklearn.model_selection import train_test_split\n",
    "from sklearn.metrics import accuracy_score\n",
    "\n",
    "# 원본 데이터를 로딩, 데이터 가공, 학습 데이터/테스트 데이터 분할\n",
    "titanic_df = pd.read_csv('./titanic_train.csv')\n",
    "y_titanic_df = titanic_df['Survived']\n",
    "X_titanic_df = titanic_df.drop('Survived', axis=1)\n",
    "X_titanic_df = transform_features(X_titanic_df)\n",
    "X_train, X_test, y_train, y_test = train_test_split(X_titanic_df, y_titanic_df, test_size=0.2, random_state=0)\n",
    "\n",
    "# 위에서 생성한 Dummy Classifier를 이용해 학습/예측/평가 수행\n",
    "myclf = MyDummyClassifier()\n",
    "myclf.fit(X_train, y_train)\n",
    "\n",
    "mypredictions = myclf.predict(X_test)\n",
    "print(\"Dummy Classifier의 정확도 : {0: .4f}\" .format(accuracy_score(y_test, mypredictions)))\n"
   ]
  },
  {
   "attachments": {},
   "cell_type": "markdown",
   "metadata": {},
   "source": [
    "#### 결과\n",
    "\n",
    ": 이렇게 단순한 알고리즘으로 예측을 하더라도 데이터 구성에 따라 정확도 결과는 약 78.77%로 <br>\n",
    "꽤 높은 수치가 나올 수 있기 때문에 정확도를 평가 지표롤 사용할 때는 매우 신중해야 한다.\n",
    "\n",
    "특히 정확도는 불균형한(imbalanced) 레이블 값 분포에서 ML 모델의 성능을 평가할 경우, 적합한 평가 지표가 아니다. <br>\n",
    "( 예를 들어 100개의 데이터가 있고 이 중에 90개의 데이터 레이블이 0, 단 10개의 데이터 레이블이 1이라고 한다면 <br>\n",
    "무조건 0으로 예측 결과를 반환하는 ML 모델의 경우라도 정확도가 90%가 되기 때문이다. )\n",
    "\n"
   ]
  },
  {
   "attachments": {},
   "cell_type": "markdown",
   "metadata": {},
   "source": [
    "### 예제 2 : [MNIST] binary classification으로 변경 후 정확도 측정\n",
    "\n",
    "MNIST 데이터셋을 변환해 불균형한 데이터 세트로 만든 뒤에 정확도 지표 적용 시 어떤 문제가 발생할 수 있는지 살펴본다.\n",
    "\n",
    "MNIST 데이터셋은 0~9까지의 숫자 이미지의 픽셀 정보를 가지고 있으며, <br>\n",
    "이를 기반으로 숫자 Digit을 예측하는 데 사용된다.\n",
    "\n",
    "`원래 MNIST 데이터셋은 레이블 값이 0부터 9까지 있는 Multi Label 분류를 위한 것 `인데, 이것을 `레이블 값이 7인 것만 True, 나머지 값은 모두 False로 변환해 이진 분류 문제로 살짝 바꿔` 보겠다.\n",
    "\n",
    "`즉, 전체 데이터의 10%만 True, 나머지 90%는 False인 불균형 데이터셋으로 변형하는 것이다.`"
   ]
  },
  {
   "cell_type": "code",
   "execution_count": 25,
   "metadata": {},
   "outputs": [],
   "source": [
    "from sklearn.datasets import load_digits\n",
    "from sklearn.model_selection import train_test_split\n",
    "from sklearn.base import BaseEstimator\n",
    "from sklearn.metrics import accuracy_score\n",
    "import numpy as np\n",
    "import pandas as pd\n",
    "\n",
    "class MyFakeClassifier(BaseEstimator) :\n",
    "    def fit(self, X, y) :\n",
    "        pass \n",
    "\n",
    "    # 입력값으로 들어오는 X 데이터셋의 크기만큼 모두 0값으로 만들어서 반환\n",
    "    def predict(self, X) :\n",
    "        return np.zeros( (len(X), 1), dtype=bool)\n",
    "    \n",
    "# 사이킷런의 내장 데이터셋인 load_digits()를 이용해 MNIST 데이터 로딩\n",
    "digits = load_digits()\n",
    "\n",
    "# digits 번호가 7번이면 True이고 이를 astype(int)로 1로 변환, 그렇지 않으면 False이고 0으로 변환\n",
    "y = (digits.target == 7).astype(int)\n",
    "X_train, X_test, y_train, y_test = train_test_split(digits.data, y, random_state=1)"
   ]
  },
  {
   "cell_type": "code",
   "execution_count": 26,
   "metadata": {},
   "outputs": [
    {
     "name": "stdout",
     "output_type": "stream",
     "text": [
      "레이블 테스트셋 크기 :  (450,)\n",
      "테스트셋 레이블 0과 1의 분포도\n",
      "0    402\n",
      "1     48\n",
      "dtype: int64\n",
      "모든 예측을 0으로 하여 정확도는 :  0.893\n"
     ]
    }
   ],
   "source": [
    "# 불균형한 레이블 데이터 분포도 확인\n",
    "print(\"레이블 테스트셋 크기 : \", y_test.shape)\n",
    "print(\"테스트셋 레이블 0과 1의 분포도\")\n",
    "print(pd.Series(y_test).value_counts())\n",
    "\n",
    "# Dummy Classifier로 학습/예측/정확도 평가\n",
    "fakeclf = MyFakeClassifier()\n",
    "fakeclf.fit(X_train, y_train)\n",
    "fakepred = fakeclf.predict(X_test)\n",
    "print(\"모든 예측을 0으로 하여 정확도는 : {0: .3f}\" .format(accuracy_score(y_test, fakepred)))"
   ]
  },
  {
   "attachments": {},
   "cell_type": "markdown",
   "metadata": {},
   "source": [
    "#### 결과\n",
    "\n",
    "단순히 predict()의 결과를 np.zeros()로 모두 0값으로 반환됨에도 불구하고 450개의 테스트 데이터셋에 수행한 예측 정확도는 90%이다.\n",
    "\n",
    "단지 모든 것을 0으로만 예측해도 MyFakeClassifier의 정확도가 90%로 유수의 ML 알고리즘과 비슷한 성능을 갖는 말도 안되는 결과이다.\n",
    "\n",
    "`이처럼 정확도 평가 지표는 불균형한 레이블 데이터셋에서는 성능 수치로 사용돼서는 안된다.\n",
    "정확도가 가지는 분류 평가 지표로서 이러한 한계점을 극복하기 위해 여러 가지 분류 지표와 함께 적용하여 ML 모델 성능을 평가해야 한다.`\n",
    "\n",
    "이를 위해 `오차 행렬(Confusion Matrix)`가 있다.\n"
   ]
  },
  {
   "attachments": {
    "image.png": {
     "image/png": "[encoded data removed]"
    }
   },
   "cell_type": "markdown",
   "metadata": {},
   "source": [
    "# 오차행렬(Confusion Matrix)\n",
    "\n",
    "이진 분류에서 성능 지표로 잘 활용되는 오차행렬은 학습된 분류 모델이 예측을 수행하면서 얼마나 헷갈리고(confused) 있는지도 함께 보여주는 지표이다.\n",
    "\n",
    "![image.png](attachment:image.png)\n",
    "\n",
    "* TN : 예측값 0, 실제값 0\n",
    "* FP : 예측값 1, 실제값 0\n",
    "* FN : 예측값 0, 실제값 1\n",
    "* TP : 예측값 1, 실제값 1\n",
    "\n",
    "사이킷런은 오차 행렬을 위해 `confusion_matrix()` API 제공.\n"
   ]
  },
  {
   "attachments": {},
   "cell_type": "markdown",
   "metadata": {},
   "source": [
    "## confusion_matrix()\n",
    "정확도(Accuracy) 예제에서 다룬 MyFakeClassifier의 예측 결과인 fakepred와 실제 결과인 y_test를 confusion_matrix()의 인자로 입력해 오차 행렬을 출력"
   ]
  },
  {
   "cell_type": "code",
   "execution_count": 27,
   "metadata": {},
   "outputs": [
    {
     "data": {
      "text/plain": [
       "array([[402,   0],\n",
       "       [ 48,   0]])"
      ]
     },
     "execution_count": 27,
     "metadata": {},
     "output_type": "execute_result"
    }
   ],
   "source": [
    "from sklearn.metrics import confusion_matrix\n",
    "\n",
    "confusion_matrix(y_test, fakepred)\n",
    "\n",
    "# TN : 402  (예측 : 7 아님, 실제 : 7 아님)\n",
    "# FP : 0    (예측 : 7 맞음, 실제 : 7 아님)\n",
    "# FN : 45   (예측 : 7 아님, 실제 : 7 맞음)\n",
    "# TP : 0    (예측 : 7 맞음, 실제 : 7 맞음)"
   ]
  },
  {
   "attachments": {},
   "cell_type": "markdown",
   "metadata": {},
   "source": [
    "## 정확도(Accuracy), 정밀도(Precision), 재현율(Recall)\n",
    "TN, FP, FN, TP 값은 Classifier 성능의 여러 면모를 판단할 수 있는 기반 정보를 제공.\n",
    "이 값을 조합하여 `정확도(Accuracy)`, `정밀도(Precision)`, `재현율(Recall)` 값을 알 수 있음.\n",
    "\n",
    "$정확도(Accuracy) = (TN + TP) / (TN + FP + FN + TP) = (예측값과 실제값이 동일한 건수)/(모든 데이터 수)$\n",
    "\n",
    "$정밀도(Precision) = TP / (FP + TP) = (예측값과 실제값이 Positive로 동일한 건수) / (예측값이 Positive인 모든 데이터 수)$\n",
    "\n",
    "$재현율(Recall) = TP / (FN + TP) = (예측값과 실제값이 Psotivie로 동일한 건수) / (Positive인 모든 데이터 건수)$\n",
    "\n",
    "`정확도`는 불균형한 이진 분류 데이터셋에서는 Positivie 데이터 건수가 매우 작기 때문에 데이터에 기반한 ML 알고리즘은 Negative로 예측 정확도가 높아지는 경향이 발생한다.<br>\n",
    "만약 10,000건의 데이터셋에서 9,900건이 Negative이고 100건이 Positive라면 Negative로 예측하는 경향이 더 강해서 TN은 매우 커지고 TP는 매우 작아지게 된다. <br>\n",
    "또한 Negative로 예측할 때 정확도가 높기 때문에 FN이 매우 작고,<br>\n",
    "Positive로 예측할 때 정확도가 낮기 때문에 FP 역시 매우 작아진다.\n",
    "\n",
    "결과적으로 비대칭한 데이터셋에서 Positive에 대한 예측 정확도를 판단하지 못한 채 Negative에 대한 예측 정확도만으로도 분류의 정확도가 매우 높게 나타나는 수치적 판단 오류를 일으키게 된다.\n",
    "\n",
    "`정밀도와 재현율`은 데이터셋의 예측 성능에 좀 더 초점을 맞춘 평가 지표이다.\n",
    "앞서 만든 MyFakeClassifer는 Positive로 예측한 TP값이 하나도 없기 때문에 정밀도와 재현율 값 모두 0이다. <br>\n",
    "\n",
    "`정밀도`는 예측을 Positive한 대상 중에서 예측과 실제값이 Positive로 일치한 데이터의 비율을 뜻한다. Positive 예측 성능을 더욱 정밀하게 측정하기 위한 평가 지표로 `양성 예측도`라고도 불린다.<br>\n",
    "정밀도가 상대적으로 더 중요한 지표인 경우는 실제 Negative인 데이터 예측을 Positve로 잘못 판단하게 되면 업무상 큰 영향이 발생하는 경우. <br>\n",
    "ex) 스팸메일 여부 판단 모델의 경우, 실제 Negative인 일반 메일을 Positive인 스팸 메일로 분류할 경우에는 메일을 아예 받지 못하게 돼 업무에 차질이 생김.\n",
    "\n",
    "`재현율`은 실제 값이 Positive인 대상 중에 예측과 실제값이 Positive로 일치한 데이터의 비율을 뜻한다. `민감도(Seneitivity) 또는 TPR(True Positive Rate)`라고도 불린다.<br>\n",
    "재현율이 상대적으로 더 중요한 지표인 경우는 실제 Positive인 데이터 예측을 Negative로 잘못 판단하게 되면 업무상 큰 영향이 발생하는 경우.\n",
    "ex) 보험 사기와 같은 금융 사기 적발 모델의 경우, 실제 금융 사기인 Positive건을 Negative로 판단하게 되면 회사에 미치는 손해가 클 것임. \n",
    "\n",
    "가장 좋은 성능 평가는 재현율과 정밀도 `모두` 높은 수치를 얻는 것이다. <br>\n",
    "둘 중 어느 한 평가 지표만 매우 높고, 다른 수치는 매우 낮은 결과를 나타내는 경우는 바람직하지 않다.\n"
   ]
  },
  {
   "attachments": {},
   "cell_type": "markdown",
   "metadata": {},
   "source": [
    "## precision_score(), recall_score()\n",
    "\n",
    "precision_score() : 정밀도 계산\n",
    "recall_score() : 재현율 계산"
   ]
  },
  {
   "cell_type": "code",
   "execution_count": 28,
   "metadata": {},
   "outputs": [],
   "source": [
    "# confusion_matrix, accuracy, precision, recall 등의 평가를 한꺼번에 호출하는 get_clf_eval() 함수 생성\n",
    "\n",
    "from sklearn.metrics import accuracy_score, precision_score, recall_score, confusion_matrix\n",
    "\n",
    "def get_clf_eval(y_test, pred) :\n",
    "    confusion = confusion_matrix(y_test, pred)\n",
    "    accuracy = accuracy_score(y_test, pred)\n",
    "    precision = precision_score(y_test, pred)\n",
    "    recall = recall_score(y_test, pred)\n",
    "    print(\"오차 행렬\")\n",
    "    print(confusion)\n",
    "    print(\"정확도 : {0: .4f}, 정밀도 : {1: .4f}, 재현율 : {2: .4f}\" .format(accuracy, precision, recall))"
   ]
  },
  {
   "cell_type": "code",
   "execution_count": 29,
   "metadata": {},
   "outputs": [
    {
     "name": "stdout",
     "output_type": "stream",
     "text": [
      "오차 행렬\n",
      "[[15  0]\n",
      " [ 1  4]]\n",
      "정확도 :  0.9500, 정밀도 :  1.0000, 재현율 :  0.8000\n"
     ]
    }
   ],
   "source": [
    "import pandas as pd\n",
    "from sklearn.model_selection import train_test_split\n",
    "from sklearn.linear_model import LogisticRegression\n",
    "\n",
    "# 타이타닉 데이터 재로드, 가공, 학습 데이터/테스트 데이터 분할\n",
    "titanic_df = pd.read_csv('./titanic_train.csv')\n",
    "y_titanic_df = titanic_df['Survived']\n",
    "X_titanic_df = titanic_df.drop('Survived', axis=1)\n",
    "X_titanic_df = transform_features(X_titanic_df)\n",
    "\n",
    "X_train, X_test, y_train, y_test = train_test_split(X_titanic_df, y_titanic_df, test_size=20, random_state=11)\n",
    "\n",
    "# 로지스틱 회귀 기반, 생존자 예측\n",
    "lr_clf = LogisticRegression(solver='liblinear') # solve='liblinear' : 로지스틱 회귀의 최적화 알고리즘 지정. 데이터셋의 이진 분류인 경우 solver는 liblinear가 성능이 좋은 경향이 있다. solver의 기본값은 lbfgs이며 데이터셋이 상대적으로 크고 다중 분류인 경우 적합.\n",
    "lr_clf.fit(X_train, y_train)\n",
    "pred = lr_clf.predict(X_test)\n",
    "get_clf_eval(y_test, pred)"
   ]
  },
  {
   "cell_type": "code",
   "execution_count": null,
   "metadata": {},
   "outputs": [],
   "source": []
  }
 ],
 "metadata": {
  "kernelspec": {
   "display_name": "base",
   "language": "python",
   "name": "python3"
  },
  "language_info": {
   "codemirror_mode": {
    "name": "ipython",
    "version": 3
   },
   "file_extension": ".py",
   "mimetype": "text/x-python",
   "name": "python",
   "nbconvert_exporter": "python",
   "pygments_lexer": "ipython3",
   "version": "3.10.8"
  },
  "orig_nbformat": 4,
  "vscode": {
   "interpreter": {
    "hash": "1fa5e1eba17a09ed460996a78ce2364a88c028d5d0b053615ee12cbef51e120d"
   }
  }
 },
 "nbformat": 4,
 "nbformat_minor": 2
}
