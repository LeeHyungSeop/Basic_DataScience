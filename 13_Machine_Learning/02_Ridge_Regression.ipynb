{
 "cells": [
  {
   "attachments": {},
   "cell_type": "markdown",
   "metadata": {},
   "source": [
    "# Ridge Regression\n",
    "\n",
    "`01_Linear_Regression.ipynb`에서 Linear Regression을 돌려봤었는데\n",
    "\n",
    "성능이 60% 정도로 좋게 나오지 않았다.\n",
    "\n",
    "그래서 Linear Regression에 규제, 제약을 통해서 성능을 더 높이는 다양한 모델들이 존재한다.\n",
    "\n",
    "1. Ridge Regression\n",
    "2. "
   ]
  },
  {
   "cell_type": "code",
   "execution_count": null,
   "metadata": {},
   "outputs": [],
   "source": []
  }
 ],
 "metadata": {
  "language_info": {
   "name": "python"
  },
  "orig_nbformat": 4
 },
 "nbformat": 4,
 "nbformat_minor": 2
}
