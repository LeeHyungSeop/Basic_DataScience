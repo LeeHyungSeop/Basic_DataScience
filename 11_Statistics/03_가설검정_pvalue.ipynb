{
 "cells": [
  {
   "attachments": {},
   "cell_type": "markdown",
   "metadata": {},
   "source": [
    "# 가설 검정과 p-value\n",
    "\n",
    "## 가설 검정\n",
    ": 표본에 대한 통계적 테스트를 수행해 전체 모집단에 대한 추론을 만드는 과정으로, `귀무가설(H0)`과 `대립가설(연구가설)(H1)`을 통해 가정이 통계적으로 의미가 있는지 검정함\n",
    "\n",
    ": 모델링에서 각 독립 변수에 대해 0.05(5%)보다 작은 p-value는 유의미하다고 간주함\n",
    "\n",
    "## p-value\n",
    ": 귀무가설이 옳다는 전제 하에 표본에서 실제로 관측된 통계값과 같거나 더 극단적인 통계값이 관측될 확률\n",
    "\n",
    "ex. 한 빵집에서 생상되는 식빵의 무게가 최소 200g이라고 주장할 경우,\n",
    "표본에서 20개를 추출해 구한 평균 무게가 196g이고, 표준편차는 5.3g이었다면, 유의수준 5%(0.05)로 위의 주장을 기각할 수 있을까?\n",
    "\n",
    "\n",
    "➡️ 귀무가설 : 모든 식빵의 무게는 200g 이상이다.\n",
    "표본 : $\\hat x$=196, $s$=5.3, $n$=20"
   ]
  },
  {
   "attachments": {},
   "cell_type": "markdown",
   "metadata": {},
   "source": [
    "## 단일 표본 t검정\n",
    "\n",
    "단일 표본 t 검정 (One sample t test) : 정규분포를 따르는 표본에 대해서 기대값을 조사할 때 사용하는 방법\n",
    "\n",
    "단일 표본의 t 검정은 검정 통계량으로, t 통계량을 쓴다.\n",
    "\n",
    "$(t 통계량) = \\left (\\frac{\\hat x - \\mu}{s / \\sqrt{n}} \\right)$"
   ]
  },
  {
   "cell_type": "code",
   "execution_count": 3,
   "metadata": {},
   "outputs": [
    {
     "name": "stdout",
     "output_type": "stream",
     "text": [
      "검정 통계량 :  -3.38\n",
      "t-table로부터의 임계값 :  -1.729\n",
      "t-table의 아래쪽 꼬리 p값 :  0.0016\n"
     ]
    }
   ],
   "source": [
    "import numpy as np\n",
    "from scipy import stats\n",
    "\n",
    "x_bar, mu, s, n = 196, 200, 5.3, 20\n",
    "\n",
    "# 단일 표본 t 검정 (One sample t test) : 정규분포를 따르는 표본에 대해서 기대값을 조사할 때 사용하는 방법\n",
    "t_sample = (x_bar - mu) / (s / np.sqrt(float(n)))\n",
    "print(\"검정 통계량 : \", np.round(t_sample, 2))\n",
    "\n",
    "alpha = 0.05 # 유의수준\n",
    "t_alpha = stats.t.ppf(alpha, n-1) # percent point function\n",
    "print(\"t-table로부터의 임계값 : \", np.round(t_alpha, 3)) # 면적이 0.05가 되는 값 : -1.729(-3.38보다 크다)\n",
    "\n",
    "p_val = stats.t.sf(np.abs(t_sample), n-1) # survival function\n",
    "print(\"t-table의 아래쪽 꼬리 p값 : \", np.round(p_val, 4))\n",
    "\n",
    "# p-value값이 0.05 미만이니까 귀무가설을 기각.\n",
    "# == \"모든 식빵의 무게는 200g 이상이다.\"라는 주장은 통계적으로 유의하지 않다."
   ]
  },
  {
   "cell_type": "code",
   "execution_count": null,
   "metadata": {},
   "outputs": [],
   "source": []
  }
 ],
 "metadata": {
  "kernelspec": {
   "display_name": "base",
   "language": "python",
   "name": "python3"
  },
  "language_info": {
   "codemirror_mode": {
    "name": "ipython",
    "version": 3
   },
   "file_extension": ".py",
   "mimetype": "text/x-python",
   "name": "python",
   "nbconvert_exporter": "python",
   "pygments_lexer": "ipython3",
   "version": "3.10.8"
  },
  "orig_nbformat": 4,
  "vscode": {
   "interpreter": {
    "hash": "1fa5e1eba17a09ed460996a78ce2364a88c028d5d0b053615ee12cbef51e120d"
   }
  }
 },
 "nbformat": 4,
 "nbformat_minor": 2
}
