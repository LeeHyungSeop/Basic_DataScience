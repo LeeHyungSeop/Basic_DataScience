{
 "cells": [
  {
   "attachments": {},
   "cell_type": "markdown",
   "metadata": {},
   "source": [
    "# 평균값, 중앙값, 최빈값 예제"
   ]
  },
  {
   "cell_type": "code",
   "execution_count": 7,
   "metadata": {},
   "outputs": [
    {
     "name": "stdout",
     "output_type": "stream",
     "text": [
      "평균값 :  49.17\n",
      "중앙값 :  49.0\n",
      "최빈값 : 3 (125개)\n"
     ]
    },
    {
     "name": "stderr",
     "output_type": "stream",
     "text": [
      "/var/folders/9q/y4ybk96d7nb9d0spg4xhbx7m0000gn/T/ipykernel_2790/4080164878.py:10: FutureWarning: Unlike other reduction functions (e.g. `skew`, `kurtosis`), the default behavior of `mode` typically preserves the axis it acts along. In SciPy 1.11.0, this behavior will change: the default value of `keepdims` will become False, the `axis` over which the statistic is taken will be eliminated, and the value None will no longer be accepted. Set `keepdims` to True or False to avoid this warning.\n",
      "  mode = stats.mode(data) # numpy는 최빈값 도출 method가 없기 때문에, scipy 패키지의 status 모듈에 있는 mode() 함수 이용\n"
     ]
    }
   ],
   "source": [
    "import numpy as np\n",
    "from scipy import stats\n",
    "\n",
    "np.random.seed(0)\n",
    "\n",
    "data = np.random.randint(0, 100, 10000)\n",
    "\n",
    "mean = np.mean(data) # numpy의 평균 method\n",
    "medain = np.median(data) # numpy의 중앙값 method\n",
    "mode = stats.mode(data) # numpy는 최빈값 도출 method가 없기 때문에, scipy 패키지의 status 모듈에 있는 mode() 함수 이용\n",
    "\n",
    "print(\"평균값 : \", mean.round(2))\n",
    "print(\"중앙값 : \", medain)\n",
    "print(\"최빈값 : {} ({}개)\" .format(mode[0][0], mode[1][0]))\n",
    "\n"
   ]
  },
  {
   "cell_type": "code",
   "execution_count": null,
   "metadata": {},
   "outputs": [],
   "source": []
  }
 ],
 "metadata": {
  "kernelspec": {
   "display_name": "base",
   "language": "python",
   "name": "python3"
  },
  "language_info": {
   "codemirror_mode": {
    "name": "ipython",
    "version": 3
   },
   "file_extension": ".py",
   "mimetype": "text/x-python",
   "name": "python",
   "nbconvert_exporter": "python",
   "pygments_lexer": "ipython3",
   "version": "3.10.8"
  },
  "orig_nbformat": 4,
  "vscode": {
   "interpreter": {
    "hash": "1fa5e1eba17a09ed460996a78ce2364a88c028d5d0b053615ee12cbef51e120d"
   }
  }
 },
 "nbformat": 4,
 "nbformat_minor": 2
}
