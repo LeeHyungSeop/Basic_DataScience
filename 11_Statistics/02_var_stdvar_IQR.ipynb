{
 "cells": [
  {
   "attachments": {},
   "cell_type": "markdown",
   "metadata": {},
   "source": [
    "# 분산, 표준편차, 범위, 사분위수, IQR\n",
    "* Variance(분산) : 평균과의 거리를 제곱한 값의 평균\n",
    "* 표준편차 : 분산의 제곱근\n",
    "* 범위 : 최대값과 최소값의 차이\n",
    "![](https://velog.velcdn.com/images/hseop/post/4896056a-692d-4b5c-ad0a-285629da56e3/image.png)\n",
    "\n",
    "\n",
    "* 사분위수 : 데이터를 4등분한 값. \n",
    "25% 값을 1사분위수 (Q1),\n",
    "50% 값을 2사분위수 (Q2),\n",
    "75% 값을 3사분위수 (Q3)\n",
    "* IQR : Interquartile Range. Q3과 Q1의 차이\n",
    "![](https://velog.velcdn.com/images/hseop/post/1265f69d-a12b-485e-9ad4-d084572d0a97/image.png)"
   ]
  },
  {
   "cell_type": "code",
   "execution_count": 4,
   "metadata": {},
   "outputs": [
    {
     "name": "stdout",
     "output_type": "stream",
     "text": [
      "분산 :  609\n",
      "표준편차 :  24.68\n",
      "범위 81\n",
      "사분위수 : \n",
      "\t0 % -> 0.0\n",
      "\t25 % -> 10.5\n",
      "\t50 % -> 19.0\n",
      "\t75 % -> 38.5\n",
      "\t100 % -> 81.0\n",
      "IQR :  28.0\n"
     ]
    }
   ],
   "source": [
    "import numpy as np\n",
    "from statistics import variance, stdev\n",
    "\n",
    "points = np.random.randint(0, 100, 20)\n",
    "\n",
    "# Varinace & Standard Varinace\n",
    "var = variance(points); print(\"분산 : \", var)\n",
    "std = stdev(points); print(\"표준편차 : \", np.round(std, 2))\n",
    "\n",
    "# Range (Max value - min value)\n",
    "range = np.max(points) - np.min(points); print(\"범위\", range)\n",
    "\n",
    "# Quantile\n",
    "print(\"사분위수 : \")\n",
    "for val in [0, 25, 50, 75, 100] :\n",
    "    quantile = np.percentile(points, val)\n",
    "    print(\"\\t{} % -> {}\" .format(val, quantile))\n",
    "\n",
    "# IQR\n",
    "q1, q3 = np.percentile(points, [25, 75])\n",
    "IQR = q3 - q1\n",
    "print(\"IQR : \", IQR)\n"
   ]
  },
  {
   "cell_type": "code",
   "execution_count": null,
   "metadata": {},
   "outputs": [],
   "source": []
  }
 ],
 "metadata": {
  "kernelspec": {
   "display_name": "base",
   "language": "python",
   "name": "python3"
  },
  "language_info": {
   "codemirror_mode": {
    "name": "ipython",
    "version": 3
   },
   "file_extension": ".py",
   "mimetype": "text/x-python",
   "name": "python",
   "nbconvert_exporter": "python",
   "pygments_lexer": "ipython3",
   "version": "3.10.8"
  },
  "orig_nbformat": 4,
  "vscode": {
   "interpreter": {
    "hash": "1fa5e1eba17a09ed460996a78ce2364a88c028d5d0b053615ee12cbef51e120d"
   }
  }
 },
 "nbformat": 4,
 "nbformat_minor": 2
}
