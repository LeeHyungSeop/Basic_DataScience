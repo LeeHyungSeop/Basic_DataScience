{
 "cells": [
  {
   "attachments": {},
   "cell_type": "markdown",
   "metadata": {},
   "source": [
    "# Box Plot\n",
    "\n",
    "박스 하단은 25%, (Q1) <br>\n",
    "박스 중간 구분선이 전체 데이터의 50%, (Q2) <br>\n",
    "박스 상단은 75% 를 나타냄 (Q3) <br>\n",
    "\n",
    "IQR : Inter Quantile Range = Q3 - Q1<br>\n",
    "\n",
    "Q1과 Q3. 즉 박스를 벗어난 수염이 존재. <br>\n",
    "수염 == fence.<br>\n",
    "Q1보다 작은 fence까지의 거리 == Lower Outer Fence == Q1 - 1.5*IQR <br>\n",
    "Q3보다 큰  fence까지의 거리 == Upper Outer Fence == Q3 + 1.5*IQR<br>\n",
    "\n",
    "Lower Outer Fence, Upper Outer Fence보다도 밖에 있는 값들을 `이상치`라고 한다.\n",
    "\n",
    "따라서 Box Plot을 이용하여 `이상치` 발견을 한 후에 제거하는 작업을 주로 사용할 수 있다.\n"
   ]
  },
  {
   "cell_type": "code",
   "execution_count": 1,
   "metadata": {},
   "outputs": [
    {
     "name": "stdout",
     "output_type": "stream",
     "text": [
      "<class 'pandas.core.frame.DataFrame'>\n",
      "RangeIndex: 244 entries, 0 to 243\n",
      "Data columns (total 7 columns):\n",
      " #   Column      Non-Null Count  Dtype   \n",
      "---  ------      --------------  -----   \n",
      " 0   total_bill  244 non-null    float64 \n",
      " 1   tip         244 non-null    float64 \n",
      " 2   sex         244 non-null    category\n",
      " 3   smoker      244 non-null    category\n",
      " 4   day         244 non-null    category\n",
      " 5   time        244 non-null    category\n",
      " 6   size        244 non-null    int64   \n",
      "dtypes: category(4), float64(2), int64(1)\n",
      "memory usage: 7.4 KB\n"
     ]
    }
   ],
   "source": [
    "import numpy as np\n",
    "import matplotlib.pyplot as plt\n",
    "import matplotlib\n",
    "import seaborn\n",
    "import scipy as sp\n",
    "\n",
    "matplotlib.rcParams['font.family'] = 'AppleGothic' # Mac\n",
    "matplotlib.rcParams['font.size'] = 15 # 글자 크기\n",
    "matplotlib.rcParams['axes.unicode_minus'] = False # 한글 폰트 사용 시, '-' 마이너스 글자 깨지는 현상 해결\n",
    "\n",
    "tips = seaborn.load_dataset('tips')\n",
    "tips.info()"
   ]
  },
  {
   "cell_type": "code",
   "execution_count": 2,
   "metadata": {},
   "outputs": [
    {
     "data": {
      "text/plain": [
       "count    157.0\n",
       "mean       3.1\n",
       "std        1.5\n",
       "min        1.0\n",
       "25%        2.0\n",
       "50%        3.0\n",
       "75%        3.8\n",
       "max       10.0\n",
       "Name: tip, dtype: float64"
      ]
     },
     "execution_count": 2,
     "metadata": {},
     "output_type": "execute_result"
    }
   ],
   "source": [
    "# 남성 데이터와 관련된 행에서, \"tip\"을 뽑아옴\n",
    "tips.loc[tips.sex == \"Male\", \"tip\"].describe().round(1) "
   ]
  },
  {
   "cell_type": "code",
   "execution_count": 3,
   "metadata": {},
   "outputs": [
    {
     "data": {
      "text/plain": [
       "count    87.0\n",
       "mean      2.8\n",
       "std       1.2\n",
       "min       1.0\n",
       "25%       2.0\n",
       "50%       2.8\n",
       "75%       3.5\n",
       "max       6.5\n",
       "Name: tip, dtype: float64"
      ]
     },
     "execution_count": 3,
     "metadata": {},
     "output_type": "execute_result"
    }
   ],
   "source": [
    "# 여성 데이터와 관련된 행에서, \"tip\"을 뽑아옴\n",
    "tips.loc[tips.sex == \"Female\", \"tip\"].describe().round(1) "
   ]
  },
  {
   "cell_type": "code",
   "execution_count": 5,
   "metadata": {},
   "outputs": [
    {
     "data": {
      "text/plain": [
       "Text(0, 0.5, 'tip')"
      ]
     },
     "execution_count": 5,
     "metadata": {},
     "output_type": "execute_result"
    },
    {
     "data": {
      "image/png": "[encoded data removed]",
      "text/plain": [
       "<Figure size 640x480 with 1 Axes>"
      ]
     },
     "metadata": {},
     "output_type": "display_data"
    }
   ],
   "source": [
    "labels = []\n",
    "tip_list = []\n",
    "\n",
    "for label, df_per_sex in tips.groupby('sex') :\n",
    "    labels.append(label)\n",
    "    tip_list.append(df_per_sex['tip'].tolist())\n",
    "\n",
    "plt.boxplot(tip_list, labels=labels)\n",
    "plt.title('tips')\n",
    "plt.xlabel('sex')\n",
    "plt.ylabel('tip')\n",
    "\n",
    "# 이상치(팁을 정상보다 많이 주는)는 남성이 더 많이 보임"
   ]
  },
  {
   "cell_type": "code",
   "execution_count": null,
   "metadata": {},
   "outputs": [],
   "source": []
  }
 ],
 "metadata": {
  "kernelspec": {
   "display_name": "base",
   "language": "python",
   "name": "python3"
  },
  "language_info": {
   "codemirror_mode": {
    "name": "ipython",
    "version": 3
   },
   "file_extension": ".py",
   "mimetype": "text/x-python",
   "name": "python",
   "nbconvert_exporter": "python",
   "pygments_lexer": "ipython3",
   "version": "3.10.8"
  },
  "orig_nbformat": 4,
  "vscode": {
   "interpreter": {
    "hash": "1fa5e1eba17a09ed460996a78ce2364a88c028d5d0b053615ee12cbef51e120d"
   }
  }
 },
 "nbformat": 4,
 "nbformat_minor": 2
}
